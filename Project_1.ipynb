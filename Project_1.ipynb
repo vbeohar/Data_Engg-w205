{
 "cells": [
  {
   "cell_type": "code",
   "execution_count": 24,
   "metadata": {},
   "outputs": [],
   "source": [
    "import pandas as pd\n",
    "import numpy as np\n",
    "import matplotlib.pyplot as plt\n",
    "import seaborn as sns"
   ]
  },
  {
   "cell_type": "markdown",
   "metadata": {},
   "source": [
    "### Feature engineering"
   ]
  },
  {
   "cell_type": "markdown",
   "metadata": {},
   "source": [
    "### Commuter trips\n",
    "\n",
    "Commuter trips can be defined as trips with the following characteristics: \n",
    "<ul>\n",
    "<li>Trips originating during the rush hour times (early mornings, mornings, afternoons, late afternoons and late evenings)<br></li>\n",
    "<li>Typically short distances (i.e. less than 5 miles)<br></li>\n",
    "<li>Only originating and ending on weekdays<br></li>\n",
    "<li>Start station not being same as the end station i.e. distance between stations is not zero (to eliminate leisure trips from tourists or returned bikes)<br></li>\n",
    "</ul>\n",
    "\n",
    "We could possibly add another criteria of filtering out only paid \"annual subscribers\". However, applying that criteria might lead to an inadvertent removal of commuters that haven't yet renewed their annual memberships or those who or sparringly use bikes for commute to workplaces. Hence for our purposes, we are not applying that criteria. \n",
    "\n",
    "Some data scientists might want to also combine \"trip pairs\" i.e. combine the combination of start and end stations and using the pair as one \"trip\". But that might not be a good idea considering that the bike rentals are \"one-way rentals\"; and commuters might only use bikes for one section of their office journey (and could use public transit or shared cabs for the other leg of their journey). Including both legs of the to-n-fro journey as separate would therefore give us a more holistic view of the most commonly used station pairs during rush hours. \n"
   ]
  },
  {
   "cell_type": "code",
   "execution_count": 138,
   "metadata": {},
   "outputs": [],
   "source": [
    "%%bigquery df\n",
    "\n",
    "        select   \n",
    "            start_station_name,\n",
    "            end_station_name,\n",
    "            distance_between_stations as distance_bet_stations_miles,\n",
    "            round(avg(duration_min),2) as avg_trip_duration_minutes,\n",
    "            round((count(*) / (SELECT count(*) FROM \n",
    "                                   `profound-surf-264703.bike_trip_data.bike_trip_distance_duration_station_view`\n",
    "                                   where \n",
    "                                    start_station_name <> end_station_name\n",
    "                                      and distance_between_stations <> 0\n",
    "                                      and start_hour_str in ('Mid Morning', 'Morning', 'Evening', 'Afternoon', 'Early Afternoon')\n",
    "                                      and dow_weekday='Weekday')),5) AS Pct_To_Total\n",
    "        FROM \n",
    "            `profound-surf-264703.bike_trip_data.bike_trip_distance_duration_station_view` a\n",
    "        where \n",
    "              start_station_name <> end_station_name\n",
    "              and distance_between_stations <> 0\n",
    "              and start_hour_str in ('Mid Morning', 'Morning', 'Evening', 'Afternoon', 'Early Afternoon')\n",
    "              and dow_weekday='Weekday'\n",
    "        group by distance_between_stations, start_station_name, end_station_name\n",
    "        ORDER BY Pct_To_Total desc "
   ]
  },
  {
   "cell_type": "code",
   "execution_count": 139,
   "metadata": {},
   "outputs": [
    {
     "data": {
      "text/html": [
       "<div>\n",
       "<style scoped>\n",
       "    .dataframe tbody tr th:only-of-type {\n",
       "        vertical-align: middle;\n",
       "    }\n",
       "\n",
       "    .dataframe tbody tr th {\n",
       "        vertical-align: top;\n",
       "    }\n",
       "\n",
       "    .dataframe thead th {\n",
       "        text-align: right;\n",
       "    }\n",
       "</style>\n",
       "<table border=\"1\" class=\"dataframe\">\n",
       "  <thead>\n",
       "    <tr style=\"text-align: right;\">\n",
       "      <th></th>\n",
       "      <th>start_station_name</th>\n",
       "      <th>end_station_name</th>\n",
       "      <th>distance_bet_stations_miles</th>\n",
       "      <th>avg_trip_duration_minutes</th>\n",
       "      <th>Pct_To_Total</th>\n",
       "    </tr>\n",
       "  </thead>\n",
       "  <tbody>\n",
       "    <tr>\n",
       "      <th>0</th>\n",
       "      <td>San Francisco Caltrain 2 (330 Townsend)</td>\n",
       "      <td>Townsend at 7th</td>\n",
       "      <td>0.55</td>\n",
       "      <td>5.07</td>\n",
       "      <td>0.00993</td>\n",
       "    </tr>\n",
       "    <tr>\n",
       "      <th>1</th>\n",
       "      <td>2nd at Townsend</td>\n",
       "      <td>Harry Bridges Plaza (Ferry Building)</td>\n",
       "      <td>1.05</td>\n",
       "      <td>8.61</td>\n",
       "      <td>0.00865</td>\n",
       "    </tr>\n",
       "    <tr>\n",
       "      <th>2</th>\n",
       "      <td>Harry Bridges Plaza (Ferry Building)</td>\n",
       "      <td>Embarcadero at Sansome</td>\n",
       "      <td>0.81</td>\n",
       "      <td>13.49</td>\n",
       "      <td>0.00808</td>\n",
       "    </tr>\n",
       "    <tr>\n",
       "      <th>3</th>\n",
       "      <td>Embarcadero at Folsom</td>\n",
       "      <td>San Francisco Caltrain (Townsend at 4th)</td>\n",
       "      <td>1.05</td>\n",
       "      <td>10.91</td>\n",
       "      <td>0.00804</td>\n",
       "    </tr>\n",
       "    <tr>\n",
       "      <th>4</th>\n",
       "      <td>Harry Bridges Plaza (Ferry Building)</td>\n",
       "      <td>2nd at Townsend</td>\n",
       "      <td>1.05</td>\n",
       "      <td>9.97</td>\n",
       "      <td>0.00802</td>\n",
       "    </tr>\n",
       "    <tr>\n",
       "      <th>...</th>\n",
       "      <td>...</td>\n",
       "      <td>...</td>\n",
       "      <td>...</td>\n",
       "      <td>...</td>\n",
       "      <td>...</td>\n",
       "    </tr>\n",
       "    <tr>\n",
       "      <th>1944</th>\n",
       "      <td>Park at Olive</td>\n",
       "      <td>San Francisco Caltrain (Townsend at 4th)</td>\n",
       "      <td>28.05</td>\n",
       "      <td>265.67</td>\n",
       "      <td>0.00000</td>\n",
       "    </tr>\n",
       "    <tr>\n",
       "      <th>1945</th>\n",
       "      <td>Paseo de San Antonio</td>\n",
       "      <td>San Francisco Caltrain (Townsend at 4th)</td>\n",
       "      <td>41.37</td>\n",
       "      <td>119.08</td>\n",
       "      <td>0.00000</td>\n",
       "    </tr>\n",
       "    <tr>\n",
       "      <th>1946</th>\n",
       "      <td>California Ave Caltrain Station</td>\n",
       "      <td>San Francisco Caltrain (Townsend at 4th)</td>\n",
       "      <td>27.70</td>\n",
       "      <td>59.22</td>\n",
       "      <td>0.00000</td>\n",
       "    </tr>\n",
       "    <tr>\n",
       "      <th>1947</th>\n",
       "      <td>5th St at Folsom St</td>\n",
       "      <td>Yerba Buena Center of the Arts (3rd @ Howard)</td>\n",
       "      <td>0.35</td>\n",
       "      <td>3.20</td>\n",
       "      <td>0.00000</td>\n",
       "    </tr>\n",
       "    <tr>\n",
       "      <th>1948</th>\n",
       "      <td>Cyril Magnin St at Ellis St</td>\n",
       "      <td>Yerba Buena Center of the Arts (3rd @ Howard)</td>\n",
       "      <td>0.44</td>\n",
       "      <td>65.74</td>\n",
       "      <td>0.00000</td>\n",
       "    </tr>\n",
       "  </tbody>\n",
       "</table>\n",
       "<p>1949 rows × 5 columns</p>\n",
       "</div>"
      ],
      "text/plain": [
       "                           start_station_name  \\\n",
       "0     San Francisco Caltrain 2 (330 Townsend)   \n",
       "1                             2nd at Townsend   \n",
       "2        Harry Bridges Plaza (Ferry Building)   \n",
       "3                       Embarcadero at Folsom   \n",
       "4        Harry Bridges Plaza (Ferry Building)   \n",
       "...                                       ...   \n",
       "1944                            Park at Olive   \n",
       "1945                     Paseo de San Antonio   \n",
       "1946          California Ave Caltrain Station   \n",
       "1947                      5th St at Folsom St   \n",
       "1948              Cyril Magnin St at Ellis St   \n",
       "\n",
       "                                   end_station_name  \\\n",
       "0                                   Townsend at 7th   \n",
       "1              Harry Bridges Plaza (Ferry Building)   \n",
       "2                            Embarcadero at Sansome   \n",
       "3          San Francisco Caltrain (Townsend at 4th)   \n",
       "4                                   2nd at Townsend   \n",
       "...                                             ...   \n",
       "1944       San Francisco Caltrain (Townsend at 4th)   \n",
       "1945       San Francisco Caltrain (Townsend at 4th)   \n",
       "1946       San Francisco Caltrain (Townsend at 4th)   \n",
       "1947  Yerba Buena Center of the Arts (3rd @ Howard)   \n",
       "1948  Yerba Buena Center of the Arts (3rd @ Howard)   \n",
       "\n",
       "      distance_bet_stations_miles  avg_trip_duration_minutes  Pct_To_Total  \n",
       "0                            0.55                       5.07       0.00993  \n",
       "1                            1.05                       8.61       0.00865  \n",
       "2                            0.81                      13.49       0.00808  \n",
       "3                            1.05                      10.91       0.00804  \n",
       "4                            1.05                       9.97       0.00802  \n",
       "...                           ...                        ...           ...  \n",
       "1944                        28.05                     265.67       0.00000  \n",
       "1945                        41.37                     119.08       0.00000  \n",
       "1946                        27.70                      59.22       0.00000  \n",
       "1947                         0.35                       3.20       0.00000  \n",
       "1948                         0.44                      65.74       0.00000  \n",
       "\n",
       "[1949 rows x 5 columns]"
      ]
     },
     "execution_count": 139,
     "metadata": {},
     "output_type": "execute_result"
    }
   ],
   "source": [
    "df"
   ]
  },
  {
   "cell_type": "markdown",
   "metadata": {},
   "source": [
    "We see that even with applying our \"commute trip\" criteria, there are a lot of outlier records that skew our dataset. For example, the below histograms show that there are few trips that originate on a weekday with a travel distance greater than 40 miles! Clearly, these are only very special cases which can be excluded from our analysis. Additionally, we see that almost all commute trips are under 10 miles and less than 200 minutes."
   ]
  },
  {
   "cell_type": "code",
   "execution_count": 140,
   "metadata": {},
   "outputs": [
    {
     "data": {
      "text/plain": [
       "Text(0, 0.5, 'Frequency')"
      ]
     },
     "execution_count": 140,
     "metadata": {},
     "output_type": "execute_result"
    },
    {
     "data": {
      "image/png": "[encoded data removed]",
      "text/plain": [
       "<Figure size 432x288 with 1 Axes>"
      ]
     },
     "metadata": {
      "needs_background": "light"
     },
     "output_type": "display_data"
    }
   ],
   "source": [
    "sns.distplot(df['distance_bet_stations_miles'], kde=False, color='red', bins=200)\n",
    "plt.title('Trip Distances', fontsize=18)\n",
    "plt.xlabel('Dist between stations in miles', fontsize=16)\n",
    "plt.ylabel('Frequency', fontsize=16)"
   ]
  },
  {
   "cell_type": "code",
   "execution_count": 141,
   "metadata": {},
   "outputs": [
    {
     "data": {
      "text/plain": [
       "Text(0, 0.5, 'Frequency')"
      ]
     },
     "execution_count": 141,
     "metadata": {},
     "output_type": "execute_result"
    },
    {
     "data": {
      "image/png": "[encoded data removed]",
      "text/plain": [
       "<Figure size 432x288 with 1 Axes>"
      ]
     },
     "metadata": {
      "needs_background": "light"
     },
     "output_type": "display_data"
    }
   ],
   "source": [
    "sns.distplot(df['avg_trip_duration_minutes'], kde=False, color='red', bins=25)\n",
    "plt.title('Average Trip Durations (minutes)', fontsize=18)\n",
    "plt.xlabel('Average times between trips', fontsize=16)\n",
    "plt.ylabel('Frequency', fontsize=16)"
   ]
  },
  {
   "cell_type": "markdown",
   "metadata": {},
   "source": [
    "Therefore to perform a more specific and correct analysis, and to remove our outlier records, we truncate our original \"commute trips\" dataframe to only limit for trips that are at least 0.1% of the total trips from the original dataframe.  \n",
    "\n",
    "Which interestingly returns 265 records (as shown in the dataframe below). Additionally, as seen further below, our feature engineering enabled dataframes of the most common commute trips (at least 0.1% of total commute trips) look much more normal. "
   ]
  },
  {
   "cell_type": "code",
   "execution_count": 142,
   "metadata": {},
   "outputs": [
    {
     "data": {
      "text/html": [
       "<div>\n",
       "<style scoped>\n",
       "    .dataframe tbody tr th:only-of-type {\n",
       "        vertical-align: middle;\n",
       "    }\n",
       "\n",
       "    .dataframe tbody tr th {\n",
       "        vertical-align: top;\n",
       "    }\n",
       "\n",
       "    .dataframe thead th {\n",
       "        text-align: right;\n",
       "    }\n",
       "</style>\n",
       "<table border=\"1\" class=\"dataframe\">\n",
       "  <thead>\n",
       "    <tr style=\"text-align: right;\">\n",
       "      <th></th>\n",
       "      <th>start_station_name</th>\n",
       "      <th>end_station_name</th>\n",
       "      <th>distance_bet_stations_miles</th>\n",
       "      <th>avg_trip_duration_minutes</th>\n",
       "      <th>Pct_To_Total</th>\n",
       "    </tr>\n",
       "  </thead>\n",
       "  <tbody>\n",
       "    <tr>\n",
       "      <th>0</th>\n",
       "      <td>San Francisco Caltrain 2 (330 Townsend)</td>\n",
       "      <td>Townsend at 7th</td>\n",
       "      <td>0.55</td>\n",
       "      <td>5.07</td>\n",
       "      <td>0.00993</td>\n",
       "    </tr>\n",
       "    <tr>\n",
       "      <th>1</th>\n",
       "      <td>2nd at Townsend</td>\n",
       "      <td>Harry Bridges Plaza (Ferry Building)</td>\n",
       "      <td>1.05</td>\n",
       "      <td>8.61</td>\n",
       "      <td>0.00865</td>\n",
       "    </tr>\n",
       "    <tr>\n",
       "      <th>2</th>\n",
       "      <td>Harry Bridges Plaza (Ferry Building)</td>\n",
       "      <td>Embarcadero at Sansome</td>\n",
       "      <td>0.81</td>\n",
       "      <td>13.49</td>\n",
       "      <td>0.00808</td>\n",
       "    </tr>\n",
       "    <tr>\n",
       "      <th>3</th>\n",
       "      <td>Embarcadero at Folsom</td>\n",
       "      <td>San Francisco Caltrain (Townsend at 4th)</td>\n",
       "      <td>1.05</td>\n",
       "      <td>10.91</td>\n",
       "      <td>0.00804</td>\n",
       "    </tr>\n",
       "    <tr>\n",
       "      <th>4</th>\n",
       "      <td>Harry Bridges Plaza (Ferry Building)</td>\n",
       "      <td>2nd at Townsend</td>\n",
       "      <td>1.05</td>\n",
       "      <td>9.97</td>\n",
       "      <td>0.00802</td>\n",
       "    </tr>\n",
       "    <tr>\n",
       "      <th>...</th>\n",
       "      <td>...</td>\n",
       "      <td>...</td>\n",
       "      <td>...</td>\n",
       "      <td>...</td>\n",
       "      <td>...</td>\n",
       "    </tr>\n",
       "    <tr>\n",
       "      <th>260</th>\n",
       "      <td>Mechanics Plaza (Market at Battery)</td>\n",
       "      <td>Market at 4th</td>\n",
       "      <td>0.47</td>\n",
       "      <td>12.90</td>\n",
       "      <td>0.00101</td>\n",
       "    </tr>\n",
       "    <tr>\n",
       "      <th>261</th>\n",
       "      <td>San Jose Diridon Caltrain Station</td>\n",
       "      <td>St James Park</td>\n",
       "      <td>0.93</td>\n",
       "      <td>8.71</td>\n",
       "      <td>0.00101</td>\n",
       "    </tr>\n",
       "    <tr>\n",
       "      <th>262</th>\n",
       "      <td>Grant Avenue at Columbus Avenue</td>\n",
       "      <td>Clay at Battery</td>\n",
       "      <td>0.38</td>\n",
       "      <td>4.10</td>\n",
       "      <td>0.00101</td>\n",
       "    </tr>\n",
       "    <tr>\n",
       "      <th>263</th>\n",
       "      <td>Spear at Folsom</td>\n",
       "      <td>Townsend at 7th</td>\n",
       "      <td>1.48</td>\n",
       "      <td>15.21</td>\n",
       "      <td>0.00101</td>\n",
       "    </tr>\n",
       "    <tr>\n",
       "      <th>264</th>\n",
       "      <td>South Van Ness at Market</td>\n",
       "      <td>Temporary Transbay Terminal (Howard at Beale)</td>\n",
       "      <td>1.68</td>\n",
       "      <td>14.49</td>\n",
       "      <td>0.00101</td>\n",
       "    </tr>\n",
       "  </tbody>\n",
       "</table>\n",
       "<p>265 rows × 5 columns</p>\n",
       "</div>"
      ],
      "text/plain": [
       "                          start_station_name  \\\n",
       "0    San Francisco Caltrain 2 (330 Townsend)   \n",
       "1                            2nd at Townsend   \n",
       "2       Harry Bridges Plaza (Ferry Building)   \n",
       "3                      Embarcadero at Folsom   \n",
       "4       Harry Bridges Plaza (Ferry Building)   \n",
       "..                                       ...   \n",
       "260      Mechanics Plaza (Market at Battery)   \n",
       "261        San Jose Diridon Caltrain Station   \n",
       "262          Grant Avenue at Columbus Avenue   \n",
       "263                          Spear at Folsom   \n",
       "264                 South Van Ness at Market   \n",
       "\n",
       "                                  end_station_name  \\\n",
       "0                                  Townsend at 7th   \n",
       "1             Harry Bridges Plaza (Ferry Building)   \n",
       "2                           Embarcadero at Sansome   \n",
       "3         San Francisco Caltrain (Townsend at 4th)   \n",
       "4                                  2nd at Townsend   \n",
       "..                                             ...   \n",
       "260                                  Market at 4th   \n",
       "261                                  St James Park   \n",
       "262                                Clay at Battery   \n",
       "263                                Townsend at 7th   \n",
       "264  Temporary Transbay Terminal (Howard at Beale)   \n",
       "\n",
       "     distance_bet_stations_miles  avg_trip_duration_minutes  Pct_To_Total  \n",
       "0                           0.55                       5.07       0.00993  \n",
       "1                           1.05                       8.61       0.00865  \n",
       "2                           0.81                      13.49       0.00808  \n",
       "3                           1.05                      10.91       0.00804  \n",
       "4                           1.05                       9.97       0.00802  \n",
       "..                           ...                        ...           ...  \n",
       "260                         0.47                      12.90       0.00101  \n",
       "261                         0.93                       8.71       0.00101  \n",
       "262                         0.38                       4.10       0.00101  \n",
       "263                         1.48                      15.21       0.00101  \n",
       "264                         1.68                      14.49       0.00101  \n",
       "\n",
       "[265 rows x 5 columns]"
      ]
     },
     "execution_count": 142,
     "metadata": {},
     "output_type": "execute_result"
    }
   ],
   "source": [
    "df_commute = df[df['Pct_To_Total'] > 0.001]\n",
    "df_commute"
   ]
  },
  {
   "cell_type": "code",
   "execution_count": 143,
   "metadata": {},
   "outputs": [
    {
     "data": {
      "text/plain": [
       "Text(0, 0.5, 'Frequency')"
      ]
     },
     "execution_count": 143,
     "metadata": {},
     "output_type": "execute_result"
    },
    {
     "data": {
      "image/png": "[encoded data removed]",
      "text/plain": [
       "<Figure size 432x288 with 1 Axes>"
      ]
     },
     "metadata": {
      "needs_background": "light"
     },
     "output_type": "display_data"
    }
   ],
   "source": [
    "sns.distplot(df_commute['distance_bet_stations_miles'], kde=False, color='red', bins=25)\n",
    "plt.title('Trip Distances (in miles) of most common commuter trips', fontsize=18)\n",
    "plt.xlabel('Dist between stations', fontsize=16)\n",
    "plt.ylabel('Frequency', fontsize=16)"
   ]
  },
  {
   "cell_type": "code",
   "execution_count": 144,
   "metadata": {},
   "outputs": [
    {
     "data": {
      "text/plain": [
       "Text(0, 0.5, 'Frequency')"
      ]
     },
     "execution_count": 144,
     "metadata": {},
     "output_type": "execute_result"
    },
    {
     "data": {
      "image/png": "[encoded data removed]",
      "text/plain": [
       "<Figure size 432x288 with 1 Axes>"
      ]
     },
     "metadata": {
      "needs_background": "light"
     },
     "output_type": "display_data"
    }
   ],
   "source": [
    "sns.distplot(df_commute['avg_trip_duration_minutes'], kde=False, color='red', bins=20)\n",
    "plt.title('Average Trip Durations (in minutes) of most common commute trips', fontsize=18)\n",
    "plt.xlabel('Average times between trips', fontsize=16)\n",
    "plt.ylabel('Frequency', fontsize=16)"
   ]
  },
  {
   "cell_type": "code",
   "execution_count": 145,
   "metadata": {},
   "outputs": [
    {
     "data": {
      "text/html": [
       "<div>\n",
       "<style scoped>\n",
       "    .dataframe tbody tr th:only-of-type {\n",
       "        vertical-align: middle;\n",
       "    }\n",
       "\n",
       "    .dataframe tbody tr th {\n",
       "        vertical-align: top;\n",
       "    }\n",
       "\n",
       "    .dataframe thead th {\n",
       "        text-align: right;\n",
       "    }\n",
       "</style>\n",
       "<table border=\"1\" class=\"dataframe\">\n",
       "  <thead>\n",
       "    <tr style=\"text-align: right;\">\n",
       "      <th></th>\n",
       "      <th>start_station_name</th>\n",
       "      <th>end_station_name</th>\n",
       "      <th>distance_bet_stations_miles</th>\n",
       "      <th>avg_trip_duration_minutes</th>\n",
       "      <th>Pct_To_Total</th>\n",
       "    </tr>\n",
       "  </thead>\n",
       "  <tbody>\n",
       "    <tr>\n",
       "      <th>0</th>\n",
       "      <td>San Francisco Caltrain 2 (330 Townsend)</td>\n",
       "      <td>Townsend at 7th</td>\n",
       "      <td>0.55</td>\n",
       "      <td>5.07</td>\n",
       "      <td>0.00993</td>\n",
       "    </tr>\n",
       "    <tr>\n",
       "      <th>1</th>\n",
       "      <td>2nd at Townsend</td>\n",
       "      <td>Harry Bridges Plaza (Ferry Building)</td>\n",
       "      <td>1.05</td>\n",
       "      <td>8.61</td>\n",
       "      <td>0.00865</td>\n",
       "    </tr>\n",
       "    <tr>\n",
       "      <th>2</th>\n",
       "      <td>Harry Bridges Plaza (Ferry Building)</td>\n",
       "      <td>Embarcadero at Sansome</td>\n",
       "      <td>0.81</td>\n",
       "      <td>13.49</td>\n",
       "      <td>0.00808</td>\n",
       "    </tr>\n",
       "    <tr>\n",
       "      <th>3</th>\n",
       "      <td>Embarcadero at Folsom</td>\n",
       "      <td>San Francisco Caltrain (Townsend at 4th)</td>\n",
       "      <td>1.05</td>\n",
       "      <td>10.91</td>\n",
       "      <td>0.00804</td>\n",
       "    </tr>\n",
       "    <tr>\n",
       "      <th>4</th>\n",
       "      <td>Harry Bridges Plaza (Ferry Building)</td>\n",
       "      <td>2nd at Townsend</td>\n",
       "      <td>1.05</td>\n",
       "      <td>9.97</td>\n",
       "      <td>0.00802</td>\n",
       "    </tr>\n",
       "  </tbody>\n",
       "</table>\n",
       "</div>"
      ],
      "text/plain": [
       "                        start_station_name  \\\n",
       "0  San Francisco Caltrain 2 (330 Townsend)   \n",
       "1                          2nd at Townsend   \n",
       "2     Harry Bridges Plaza (Ferry Building)   \n",
       "3                    Embarcadero at Folsom   \n",
       "4     Harry Bridges Plaza (Ferry Building)   \n",
       "\n",
       "                           end_station_name  distance_bet_stations_miles  \\\n",
       "0                           Townsend at 7th                         0.55   \n",
       "1      Harry Bridges Plaza (Ferry Building)                         1.05   \n",
       "2                    Embarcadero at Sansome                         0.81   \n",
       "3  San Francisco Caltrain (Townsend at 4th)                         1.05   \n",
       "4                           2nd at Townsend                         1.05   \n",
       "\n",
       "   avg_trip_duration_minutes  Pct_To_Total  \n",
       "0                       5.07       0.00993  \n",
       "1                       8.61       0.00865  \n",
       "2                      13.49       0.00808  \n",
       "3                      10.91       0.00804  \n",
       "4                       9.97       0.00802  "
      ]
     },
     "execution_count": 145,
     "metadata": {},
     "output_type": "execute_result"
    }
   ],
   "source": [
    "df_commute = df_commute[0:5]\n",
    "df_commute"
   ]
  },
  {
   "cell_type": "markdown",
   "metadata": {},
   "source": [
    "### Exploratory Data Analysis"
   ]
  },
  {
   "cell_type": "code",
   "execution_count": 148,
   "metadata": {},
   "outputs": [],
   "source": [
    "%%bigquery df_alternate_low_util_stations\n",
    "\n",
    "select \n",
    "  a.station_id as start_stn_id, \n",
    "  a.util_date as trip_date, \n",
    "  round(avg(a.station_util),3) as start_stn_util, \n",
    "  a.start_hour_str as start_stn_hour, \n",
    "  a.latitude as start_stn_lat, \n",
    "  a.longitude as start_stn_long,\n",
    "  c.station_id as near_stn_id, \n",
    "  round(avg(c.station_util),3) as near_stn_util,    \n",
    "  c.latitude as near_stn_lat, \n",
    "  c.longitude as near_stn_long,\n",
    "  avg(ROUND(ST_Distance(ST_GeogPoint(a.longitude, a.latitude), ST_GeogPoint(c.longitude, c.latitude)) * 0.00062137, 4)) as near_stn_distance,\n",
    "  b.trip_id as cust_trip_id, \n",
    "  b.zip_code as cust_zipcode, \n",
    "  avg(b.distance_between_stations) as cust_trip_distance, \n",
    "  b.end_station_id, \n",
    " from \n",
    "    `profound-surf-264703.bike_trip_data.station_utilization_by_date_time` a,\n",
    "     `profound-surf-264703.bike_trip_data.bike_trip_distance_duration_station_view` b,\n",
    "    `profound-surf-264703.bike_trip_data.station_utilization_by_date_time` c\n",
    " where a.station_id = b.start_station_id \n",
    "  and a.util_date = EXTRACT(DATE FROM b.start_date )\n",
    "  and a.start_hour_str = b.start_hour_str \n",
    "  and b.distance_between_stations <> 0\n",
    "  and c.util_date = a.util_date\n",
    "  and c.station_id <> a.station_id\n",
    "  and c.start_hour_str = a.start_hour_str\n",
    "  and c.station_util < a.station_util\n",
    "  and ROUND(ST_Distance(ST_GeogPoint(a.longitude, a.latitude), ST_GeogPoint(c.longitude, c.latitude)) * 0.00062137, 3) <= 0.2\n",
    " group by \n",
    "  a.station_id, \n",
    "  a.util_date, \n",
    "  a.start_hour_str, \n",
    "  a.latitude, \n",
    "  a.longitude,\n",
    "  c.station_id, \n",
    "  c.latitude, \n",
    "  c.longitude,\n",
    "  b.trip_id, \n",
    "  b.zip_code, \n",
    "  b.end_station_id\n",
    "  order by a.util_date desc, start_stn_util desc, near_stn_util asc, near_stn_distance asc, cust_trip_id"
   ]
  },
  {
   "cell_type": "markdown",
   "metadata": {},
   "source": [
    "Cancelled commuter trips"
   ]
  },
  {
   "cell_type": "code",
   "execution_count": 155,
   "metadata": {},
   "outputs": [],
   "source": [
    "%%bigquery df_trips_broken_bikes\n",
    "\n",
    "select \n",
    "     distinct a.trip_id, \n",
    "     extract(date from a.start_date) as start_date, \n",
    "     a.duration_min, \n",
    "     a.start_hour_str, \n",
    "     a.start_station_name, \n",
    "     a.zip_code  \n",
    "    from \n",
    "    `profound-surf-264703.bike_trip_data.bike_trip_distance_duration_station_view` a\n",
    "     where \n",
    "     a.distance_between_stations = 0 and \n",
    "      a.duration_min <=15 \n",
    "      and a.subscriber_type = 'Subscriber'\n",
    "      and a.start_hour_str  in  ('Mid Morning', 'Morning', 'Evening', 'Afternoon', 'Early Afternoon')\n",
    "     order by start_date desc"
   ]
  },
  {
   "cell_type": "code",
   "execution_count": 156,
   "metadata": {},
   "outputs": [
    {
     "data": {
      "text/html": [
       "<div>\n",
       "<style scoped>\n",
       "    .dataframe tbody tr th:only-of-type {\n",
       "        vertical-align: middle;\n",
       "    }\n",
       "\n",
       "    .dataframe tbody tr th {\n",
       "        vertical-align: top;\n",
       "    }\n",
       "\n",
       "    .dataframe thead th {\n",
       "        text-align: right;\n",
       "    }\n",
       "</style>\n",
       "<table border=\"1\" class=\"dataframe\">\n",
       "  <thead>\n",
       "    <tr style=\"text-align: right;\">\n",
       "      <th></th>\n",
       "      <th>trip_id</th>\n",
       "      <th>start_date</th>\n",
       "      <th>duration_min</th>\n",
       "      <th>start_hour_str</th>\n",
       "      <th>start_station_name</th>\n",
       "      <th>zip_code</th>\n",
       "    </tr>\n",
       "  </thead>\n",
       "  <tbody>\n",
       "    <tr>\n",
       "      <th>0</th>\n",
       "      <td>1338325</td>\n",
       "      <td>2016-08-31</td>\n",
       "      <td>9.350</td>\n",
       "      <td>Afternoon</td>\n",
       "      <td>Davis at Jackson</td>\n",
       "      <td>94133</td>\n",
       "    </tr>\n",
       "    <tr>\n",
       "      <th>1</th>\n",
       "      <td>1338131</td>\n",
       "      <td>2016-08-31</td>\n",
       "      <td>1.317</td>\n",
       "      <td>Afternoon</td>\n",
       "      <td>San Jose Diridon Caltrain Station</td>\n",
       "      <td>95110</td>\n",
       "    </tr>\n",
       "    <tr>\n",
       "      <th>2</th>\n",
       "      <td>1336058</td>\n",
       "      <td>2016-08-30</td>\n",
       "      <td>9.617</td>\n",
       "      <td>Early Afternoon</td>\n",
       "      <td>Davis at Jackson</td>\n",
       "      <td>94111</td>\n",
       "    </tr>\n",
       "    <tr>\n",
       "      <th>3</th>\n",
       "      <td>1336046</td>\n",
       "      <td>2016-08-30</td>\n",
       "      <td>10.450</td>\n",
       "      <td>Early Afternoon</td>\n",
       "      <td>San Francisco City Hall</td>\n",
       "      <td>94133</td>\n",
       "    </tr>\n",
       "    <tr>\n",
       "      <th>4</th>\n",
       "      <td>1335676</td>\n",
       "      <td>2016-08-30</td>\n",
       "      <td>2.750</td>\n",
       "      <td>Morning</td>\n",
       "      <td>South Van Ness at Market</td>\n",
       "      <td>94105</td>\n",
       "    </tr>\n",
       "    <tr>\n",
       "      <th>...</th>\n",
       "      <td>...</td>\n",
       "      <td>...</td>\n",
       "      <td>...</td>\n",
       "      <td>...</td>\n",
       "      <td>...</td>\n",
       "      <td>...</td>\n",
       "    </tr>\n",
       "    <tr>\n",
       "      <th>4186</th>\n",
       "      <td>4584</td>\n",
       "      <td>2013-08-29</td>\n",
       "      <td>4.367</td>\n",
       "      <td>Early Afternoon</td>\n",
       "      <td>South Van Ness at Market</td>\n",
       "      <td>94612</td>\n",
       "    </tr>\n",
       "    <tr>\n",
       "      <th>4187</th>\n",
       "      <td>4760</td>\n",
       "      <td>2013-08-29</td>\n",
       "      <td>1.883</td>\n",
       "      <td>Afternoon</td>\n",
       "      <td>South Van Ness at Market</td>\n",
       "      <td>94103</td>\n",
       "    </tr>\n",
       "    <tr>\n",
       "      <th>4188</th>\n",
       "      <td>5070</td>\n",
       "      <td>2013-08-29</td>\n",
       "      <td>2.800</td>\n",
       "      <td>Evening</td>\n",
       "      <td>South Van Ness at Market</td>\n",
       "      <td>94115</td>\n",
       "    </tr>\n",
       "    <tr>\n",
       "      <th>4189</th>\n",
       "      <td>4965</td>\n",
       "      <td>2013-08-29</td>\n",
       "      <td>2.150</td>\n",
       "      <td>Afternoon</td>\n",
       "      <td>Mountain View Caltrain Station</td>\n",
       "      <td>94041</td>\n",
       "    </tr>\n",
       "    <tr>\n",
       "      <th>4190</th>\n",
       "      <td>5074</td>\n",
       "      <td>2013-08-29</td>\n",
       "      <td>3.600</td>\n",
       "      <td>Evening</td>\n",
       "      <td>San Francisco Caltrain 2 (330 Townsend)</td>\n",
       "      <td>94133</td>\n",
       "    </tr>\n",
       "  </tbody>\n",
       "</table>\n",
       "<p>4191 rows × 6 columns</p>\n",
       "</div>"
      ],
      "text/plain": [
       "      trip_id  start_date  duration_min   start_hour_str  \\\n",
       "0     1338325  2016-08-31         9.350        Afternoon   \n",
       "1     1338131  2016-08-31         1.317        Afternoon   \n",
       "2     1336058  2016-08-30         9.617  Early Afternoon   \n",
       "3     1336046  2016-08-30        10.450  Early Afternoon   \n",
       "4     1335676  2016-08-30         2.750          Morning   \n",
       "...       ...         ...           ...              ...   \n",
       "4186     4584  2013-08-29         4.367  Early Afternoon   \n",
       "4187     4760  2013-08-29         1.883        Afternoon   \n",
       "4188     5070  2013-08-29         2.800          Evening   \n",
       "4189     4965  2013-08-29         2.150        Afternoon   \n",
       "4190     5074  2013-08-29         3.600          Evening   \n",
       "\n",
       "                           start_station_name zip_code  \n",
       "0                            Davis at Jackson    94133  \n",
       "1           San Jose Diridon Caltrain Station    95110  \n",
       "2                            Davis at Jackson    94111  \n",
       "3                     San Francisco City Hall    94133  \n",
       "4                    South Van Ness at Market    94105  \n",
       "...                                       ...      ...  \n",
       "4186                 South Van Ness at Market    94612  \n",
       "4187                 South Van Ness at Market    94103  \n",
       "4188                 South Van Ness at Market    94115  \n",
       "4189           Mountain View Caltrain Station    94041  \n",
       "4190  San Francisco Caltrain 2 (330 Townsend)    94133  \n",
       "\n",
       "[4191 rows x 6 columns]"
      ]
     },
     "execution_count": 156,
     "metadata": {},
     "output_type": "execute_result"
    }
   ],
   "source": [
    "df_trips_broken_bikes"
   ]
  },
  {
   "cell_type": "code",
   "execution_count": 162,
   "metadata": {},
   "outputs": [
    {
     "data": {
      "text/plain": [
       "Text(0, 0.5, 'Frequency')"
      ]
     },
     "execution_count": 162,
     "metadata": {},
     "output_type": "execute_result"
    },
    {
     "data": {
      "image/png": "[encoded data removed]",
      "text/plain": [
       "<Figure size 432x288 with 1 Axes>"
      ]
     },
     "metadata": {
      "needs_background": "light"
     },
     "output_type": "display_data"
    }
   ],
   "source": [
    "sns.distplot(df_trips_broken_bikes['duration_min'], kde=False, color='red', bins=150)\n",
    "plt.title('Trip Distances (in miles) of most common commuter trips', fontsize=18)\n",
    "plt.xlabel('Dist between stations', fontsize=16)\n",
    "plt.ylabel('Frequency', fontsize=16)"
   ]
  },
  {
   "cell_type": "code",
   "execution_count": null,
   "metadata": {},
   "outputs": [],
   "source": []
  }
 ],
 "metadata": {
  "kernelspec": {
   "display_name": "Python 3",
   "language": "python",
   "name": "python3"
  },
  "language_info": {
   "codemirror_mode": {
    "name": "ipython",
    "version": 3
   },
   "file_extension": ".py",
   "mimetype": "text/x-python",
   "name": "python",
   "nbconvert_exporter": "python",
   "pygments_lexer": "ipython3",
   "version": "3.5.3"
  }
 },
 "nbformat": 4,
 "nbformat_minor": 4
}
